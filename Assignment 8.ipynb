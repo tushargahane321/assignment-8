{
 "cells": [
  {
   "cell_type": "code",
   "execution_count": null,
   "id": "230c4ef1-cfb3-4d74-9d5d-06ea525b7a84",
   "metadata": {},
   "outputs": [],
   "source": [
    "#(1)_You are writing code for a company. The requirement of the company is that you create a python\n",
    "function that will check whether the password entered by the user is correct or not. The function should\n",
    "take the password as input and return the string “Valid Password” if the entered password follows the\n",
    "below-given password guidelines else it should return “Invalid Password”."
   ]
  },
  {
   "cell_type": "code",
   "execution_count": 5,
   "id": "d6a445e7-a698-4ddb-8d7b-3395613060ab",
   "metadata": {},
   "outputs": [
    {
     "name": "stdin",
     "output_type": "stream",
     "text": [
      "Please enter your passoward ? THBP3710rk@@\n"
     ]
    },
    {
     "name": "stdout",
     "output_type": "stream",
     "text": [
      "Valid Password\n"
     ]
    }
   ],
   "source": [
    "\n",
    "import string\n",
    "\n",
    "\n",
    "def check_password(password):\n",
    "\n",
    "    if len(password) >= 10:\n",
    "        count_lower_case = 0\n",
    "        count_upper_case = 0\n",
    "        count_special = 0\n",
    "        count_int = 0\n",
    "        for word in password:\n",
    "            if word in string.ascii_lowercase:\n",
    "                count_lower_case += 1\n",
    "                continue\n",
    "            elif word in string.ascii_uppercase:\n",
    "                count_upper_case += 1\n",
    "                continue\n",
    "            elif word in string.punctuation:\n",
    "                count_special += 1\n",
    "                continue\n",
    "            elif word in string.octdigits:\n",
    "                count_int += 1\n",
    "                continue\n",
    "        if count_lower_case >= 2 or count_upper_case >= 2 or count_special >= 3 or count_int >= 1:\n",
    "            return \"Valid Password\"\n",
    "        else:\n",
    "            return \"Invalid Password\"\n",
    "    else:\n",
    "        return \"Invalid Password\"\n",
    "    \n",
    "user_input = input(\"Please enter your passoward ?\")\n",
    "print(check_password(user_input))"
   ]
  },
  {
   "cell_type": "code",
   "execution_count": null,
   "id": "dcdcdde8-28b4-4f4c-bc33-cda052f1f1e1",
   "metadata": {},
   "outputs": [],
   "source": [
    "Q2. Solve the below-given questions using at least one of the following:\n",
    "1. Lambda function\n",
    "2. Filter function\n",
    "3. map function\n",
    "4. List Comprehension"
   ]
  },
  {
   "cell_type": "code",
   "execution_count": 4,
   "id": "8e32a7e3-1a42-4e00-bdca-fd796e8a7a7b",
   "metadata": {},
   "outputs": [
    {
     "name": "stdin",
     "output_type": "stream",
     "text": [
      "Please enter your string. Iti\n"
     ]
    },
    {
     "name": "stdout",
     "output_type": "stream",
     "text": [
      "True\n"
     ]
    }
   ],
   "source": [
    "#Question 2.\n",
    "\n",
    "# a. Check if the string starts with a particular letter.\n",
    "user_input = input(\"Please enter your string.\")\n",
    "check_correct = lambda input: True if input[0] == \"I\" else False\n",
    "print(check_correct(user_input))"
   ]
  },
  {
   "cell_type": "code",
   "execution_count": 8,
   "id": "5dd2a80f-4743-4116-8df5-f383fcf323d3",
   "metadata": {},
   "outputs": [
    {
     "name": "stdin",
     "output_type": "stream",
     "text": [
      "Please enter your string. 14223543\n"
     ]
    },
    {
     "name": "stdout",
     "output_type": "stream",
     "text": [
      "True\n"
     ]
    }
   ],
   "source": [
    "# b.  Check if the string is numeric.\n",
    "user_input = input(\"Please enter your string.\")\n",
    "check_correct = lambda input: True if input.isnumeric() else False\n",
    "print(check_correct(user_input))"
   ]
  },
  {
   "cell_type": "code",
   "execution_count": 9,
   "id": "ad84c4a2-8bc2-42b5-816f-e2a03f878266",
   "metadata": {},
   "outputs": [
    {
     "name": "stdout",
     "output_type": "stream",
     "text": [
      "[('orange', 80), ('mango', 99), ('grapes', 1000)]\n"
     ]
    }
   ],
   "source": [
    "# c. Sort a list of tuples having fruit names and their quantity.\n",
    "\n",
    "list_x = [(\"mango\", 99), (\"orange\", 80), (\"grapes\", 1000)]\n",
    "list_x.sort(key=lambda x: x[1])\n",
    "print(list_x)\n",
    "       "
   ]
  },
  {
   "cell_type": "code",
   "execution_count": 10,
   "id": "c36f3a07-52ad-467c-9142-fb64b9506647",
   "metadata": {},
   "outputs": [
    {
     "name": "stdout",
     "output_type": "stream",
     "text": [
      "[1, 4, 9, 16, 25, 36, 49, 64, 81, 100, 121, 144, 169, 196, 225, 256, 289, 324, 361, 400, 441, 484, 529, 576, 625]\n"
     ]
    }
   ],
   "source": [
    "# d. Find the squares of numbers from 1 to 10.\n",
    "\n",
    "sq_list = [word**2 for word in range(1, 26)]\n",
    "print(sq_list)"
   ]
  },
  {
   "cell_type": "code",
   "execution_count": 11,
   "id": "78191f3a-fd64-47e0-be4c-015be63f405f",
   "metadata": {},
   "outputs": [
    {
     "name": "stdout",
     "output_type": "stream",
     "text": [
      "[1, 8, 27, 64, 125, 216, 343, 512, 729, 1000]\n"
     ]
    }
   ],
   "source": [
    "# e. Find the cube root of numbers from 1 to 10.\n",
    "\n",
    "cube_list = [word**3 for word in range(1, 11)]\n",
    "print(cube_list)"
   ]
  },
  {
   "cell_type": "code",
   "execution_count": 12,
   "id": "169798e2-eda9-4f71-a282-8b679bdbf8da",
   "metadata": {},
   "outputs": [
    {
     "name": "stdin",
     "output_type": "stream",
     "text": [
      "Please enter your no.? 2\n"
     ]
    },
    {
     "name": "stdout",
     "output_type": "stream",
     "text": [
      "['True']\n"
     ]
    }
   ],
   "source": [
    "# f. Check if a given number is even.\n",
    "\n",
    "user_input = int(input(\"Please enter your no.?\"))\n",
    "new_list =[]\n",
    "new_list.append(user_input)\n",
    "result  = [ \"True\" for num in new_list if num%2 ==0]\n",
    "print(result)"
   ]
  },
  {
   "cell_type": "code",
   "execution_count": 13,
   "id": "aa644ea5-d381-421e-ad29-d6d3dbd1019f",
   "metadata": {},
   "outputs": [
    {
     "name": "stdout",
     "output_type": "stream",
     "text": [
      "The list of odd numbers is:  [1, 3, 5, 7, 9]\n"
     ]
    }
   ],
   "source": [
    "# g. Filter odd numbers from the given list.\n",
    "\n",
    "num_list = [1,2,3,4,5,6,7,8,9,10]\n",
    "odd = filter(lambda p : p%2 == 1, num_list)\n",
    "print(\"The list of odd numbers is: \", list(odd))"
   ]
  },
  {
   "cell_type": "code",
   "execution_count": 14,
   "id": "f33177d9-938d-4c57-8a5a-d6a99091c0e2",
   "metadata": {},
   "outputs": [
    {
     "name": "stdout",
     "output_type": "stream",
     "text": [
      "[-5, -4, -3, -2, -1]\n",
      "[0, 1, 2, 3, 4, 5, 6]\n"
     ]
    }
   ],
   "source": [
    "# h. Sort a list of integers into positive and negative integers lists.\n",
    "test_list =  [1,2,3,4,5,6,-1,-2,-3,-4,-5,0]\n",
    "list_a = [num for num in test_list if num < 0]\n",
    "list_b = [num for num in test_list if num >=0]\n",
    "list_a.sort()\n",
    "list_b.sort()\n",
    "print(list_a)\n",
    "print(list_b)"
   ]
  },
  {
   "cell_type": "code",
   "execution_count": null,
   "id": "d8cc62a2-df50-4ed1-bd69-34d54d4a2ea8",
   "metadata": {},
   "outputs": [],
   "source": []
  }
 ],
 "metadata": {
  "kernelspec": {
   "display_name": "Python 3 (ipykernel)",
   "language": "python",
   "name": "python3"
  },
  "language_info": {
   "codemirror_mode": {
    "name": "ipython",
    "version": 3
   },
   "file_extension": ".py",
   "mimetype": "text/x-python",
   "name": "python",
   "nbconvert_exporter": "python",
   "pygments_lexer": "ipython3",
   "version": "3.10.8"
  }
 },
 "nbformat": 4,
 "nbformat_minor": 5
}
